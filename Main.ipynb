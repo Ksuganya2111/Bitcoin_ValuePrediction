{
  "nbformat": 4,
  "nbformat_minor": 0,
  "metadata": {
    "colab": {
      "provenance": []
    },
    "kernelspec": {
      "name": "python3",
      "display_name": "Python 3"
    },
    "language_info": {
      "name": "python"
    }
  },
  "cells": [
    {
      "cell_type": "code",
      "metadata": {
        "id": "XPiXxtH5ujSK"
      },
      "source": [
        "import matplotlib.pyplot as plt\n",
        "import tensorflow as tf\n",
        "from tensorflow import keras\n",
        "from tensorflow.keras import layers\n",
        "import matplotlib.pyplot as plt\n",
        "from scipy import stats\n",
        "import tensorflow as tf\n",
        "from tensorflow import keras\n",
        "from tensorflow.keras import layers\n",
        "import pandas as pd\n",
        "from sklearn import preprocessing\n",
        "import numpy as np\n",
        "import matplotlib.pyplot as plt\n",
        "from sklearn.preprocessing import MinMaxScaler\n",
        "from tensorflow.keras.models import Sequential\n",
        "from tensorflow.keras.layers import Dense, Dropout, LSTM\n",
        "import math\n",
        "from sklearn.metrics import mean_squared_error, r2_score"
      ],
      "execution_count": null,
      "outputs": []
    },
    {
      "cell_type": "code",
      "metadata": {
        "colab": {
          "base_uri": "https://localhost:8080/",
          "height": 237
        },
        "id": "8OdujAy8uvsg",
        "outputId": "78a70fb9-e0ce-42d4-c569-facdb93eeee0"
      },
      "source": [
        "data = pd.read_excel(\"/content/btc final.xls\")\n",
        "data=data.set_index('Date')\n",
        "data.head()"
      ],
      "execution_count": null,
      "outputs": [
        {
          "output_type": "execute_result",
          "data": {
            "text/html": [
              "<div>\n",
              "<style scoped>\n",
              "    .dataframe tbody tr th:only-of-type {\n",
              "        vertical-align: middle;\n",
              "    }\n",
              "\n",
              "    .dataframe tbody tr th {\n",
              "        vertical-align: top;\n",
              "    }\n",
              "\n",
              "    .dataframe thead th {\n",
              "        text-align: right;\n",
              "    }\n",
              "</style>\n",
              "<table border=\"1\" class=\"dataframe\">\n",
              "  <thead>\n",
              "    <tr style=\"text-align: right;\">\n",
              "      <th></th>\n",
              "      <th>Price</th>\n",
              "    </tr>\n",
              "    <tr>\n",
              "      <th>Date</th>\n",
              "      <th></th>\n",
              "    </tr>\n",
              "  </thead>\n",
              "  <tbody>\n",
              "    <tr>\n",
              "      <th>2013-10-01</th>\n",
              "      <td>123.65499</td>\n",
              "    </tr>\n",
              "    <tr>\n",
              "      <th>2013-10-02</th>\n",
              "      <td>125.45500</td>\n",
              "    </tr>\n",
              "    <tr>\n",
              "      <th>2013-10-03</th>\n",
              "      <td>108.58483</td>\n",
              "    </tr>\n",
              "    <tr>\n",
              "      <th>2013-10-04</th>\n",
              "      <td>118.67466</td>\n",
              "    </tr>\n",
              "    <tr>\n",
              "      <th>2013-10-05</th>\n",
              "      <td>121.33866</td>\n",
              "    </tr>\n",
              "  </tbody>\n",
              "</table>\n",
              "</div>"
            ],
            "text/plain": [
              "               Price \n",
              "Date                 \n",
              "2013-10-01  123.65499\n",
              "2013-10-02  125.45500\n",
              "2013-10-03  108.58483\n",
              "2013-10-04  118.67466\n",
              "2013-10-05  121.33866"
            ]
          },
          "metadata": {
            "tags": []
          },
          "execution_count": 2
        }
      ]
    },
    {
      "cell_type": "code",
      "metadata": {
        "id": "FtiwIvbAu9UP"
      },
      "source": [
        "dataset = data.values\n",
        "training_data_len = math.ceil(len(dataset) * .8)\n",
        "scaler = MinMaxScaler(feature_range=(0,1))\n",
        "scaled_data = scaler.fit_transform(dataset)\n",
        "train_data = scaled_data[0:training_data_len, :]\n",
        "x_train = []\n",
        "y_train = []\n",
        "for i in range(60, len(train_data)):\n",
        "    x_train.append(train_data[i-60:i, 0])\n",
        "    y_train.append(train_data[i, 0])\n",
        "x_train, y_train = np.array(x_train), np.array(y_train)\n",
        "x_train = np.reshape(x_train,(x_train.shape[0],x_train.shape[1],1))\n",
        "tf.keras.callbacks.EarlyStopping(\n",
        "    'val_loss',\n",
        "                          min_delta = 0,\n",
        "                          patience = 3,\n",
        "                          verbose = 1,\n",
        "                          restore_best_weights = True)\n",
        "es_callback = keras.callbacks.EarlyStopping(monitor='val_loss', patience=3)"
      ],
      "execution_count": null,
      "outputs": []
    },
    {
      "cell_type": "code",
      "metadata": {
        "colab": {
          "base_uri": "https://localhost:8080/"
        },
        "id": "rvyMXkasvX6X",
        "outputId": "0e95ffc3-c7ec-42ef-e7be-f639d9ec93a8"
      },
      "source": [
        "model =Sequential()\n",
        "model.add(LSTM(256, return_sequences=True, input_shape =(x_train.shape[1],1)))\n",
        "model.add(Dropout(0.01))\n",
        "model.add(LSTM(128, return_sequences=False))\n",
        "model.add(Dropout(0.01))\n",
        "model.add(Dense(1))\n",
        "model.compile(optimizer='adam', loss='mean_squared_error',metrics =[\"accuracy\"])\n",
        "model.fit(x_train,y_train,epochs=1,validation_split=0.2,callbacks=[es_callback])\n",
        "test_data=scaled_data[training_data_len - 60:,:]\n",
        "x_test= []\n",
        "y_test= dataset[training_data_len:,:]\n",
        "for y in range(60,len(test_data)):\n",
        "  x_test.append(test_data[y-60:y,0])\n",
        "x_test =np.array(x_test)\n",
        "x_test = np.reshape(x_test,(x_test.shape[0],x_test.shape[1],1))"
      ],
      "execution_count": null,
      "outputs": [
        {
          "output_type": "stream",
          "text": [
            "55/55 [==============================] - 20s 299ms/step - loss: 3.9599e-04 - accuracy: 0.0000e+00 - val_loss: 2.6342e-04 - val_accuracy: 0.0000e+00\n"
          ],
          "name": "stdout"
        }
      ]
    },
    {
      "cell_type": "code",
      "metadata": {
        "colab": {
          "base_uri": "https://localhost:8080/"
        },
        "id": "5J9vBxqxvs9X",
        "outputId": "9987c75a-ba37-40e4-90c1-648925a64af9"
      },
      "source": [
        "predictions = model.predict(x_test)\n",
        "predictions = scaler.inverse_transform(predictions)\n",
        "print(r2_score(y_test, predictions))"
      ],
      "execution_count": null,
      "outputs": [
        {
          "output_type": "stream",
          "text": [
            "0.9480171750893673\n"
          ],
          "name": "stdout"
        }
      ]
    },
    {
      "cell_type": "code",
      "metadata": {
        "colab": {
          "base_uri": "https://localhost:8080/"
        },
        "id": "qQVO_4AgvvRA",
        "outputId": "a8be9fdb-8361-4246-a18d-b0768ae71084"
      },
      "source": [
        "train = data[:training_data_len]\n",
        "valid = data[training_data_len:]\n",
        "valid['predictions']= predictions"
      ],
      "execution_count": null,
      "outputs": [
        {
          "output_type": "stream",
          "text": [
            "/usr/local/lib/python3.7/dist-packages/ipykernel_launcher.py:3: SettingWithCopyWarning: \n",
            "A value is trying to be set on a copy of a slice from a DataFrame.\n",
            "Try using .loc[row_indexer,col_indexer] = value instead\n",
            "\n",
            "See the caveats in the documentation: https://pandas.pydata.org/pandas-docs/stable/user_guide/indexing.html#returning-a-view-versus-a-copy\n",
            "  This is separate from the ipykernel package so we can avoid doing imports until\n"
          ],
          "name": "stderr"
        }
      ]
    },
    {
      "cell_type": "code",
      "metadata": {
        "colab": {
          "base_uri": "https://localhost:8080/",
          "height": 464
        },
        "id": "SZAhw-JcQE-q",
        "outputId": "c1bd47ed-4d39-4ffd-9438-a1ec545dd6ca"
      },
      "source": [
        "plt.figure(figsize=(16,8))\n",
        "plt.title('model')\n",
        "plt.xlabel('Date', fontsize=18)\n",
        "plt.ylabel('Price', fontsize=18)\n",
        "plt.plot(data['Price '],color=\"purple\")\n",
        "plt.plot(valid[['Price ','predictions']])\n",
        "plt.legend(['Train','Test','Prediction'],loc='lower right')\n",
        "plt.show()"
      ],
      "execution_count": null,
      "outputs": [
        {
          "output_type": "display_data",
          "data": {
            "image/png": "[encoded data removed]",
            "text/plain": [
              "<Figure size 1152x576 with 1 Axes>"
            ]
          },
          "metadata": {
            "tags": [],
            "needs_background": "light"
          }
        }
      ]
    },
    {
      "cell_type": "code",
      "metadata": {
        "colab": {
          "base_uri": "https://localhost:8080/"
        },
        "id": "VqzhdAL2v4Zm",
        "outputId": "3290e3bc-0844-4fbb-b4cb-c691dfbe9953"
      },
      "source": [
        "print(valid[['Price ','predictions']])"
      ],
      "execution_count": null,
      "outputs": [
        {
          "output_type": "stream",
          "text": [
            "                  Price    predictions\n",
            "Date                                  \n",
            "2019-11-20   8118.488536   7633.880859\n",
            "2019-11-21   8074.843174   7557.849609\n",
            "2019-11-22   7612.740574   7478.818848\n",
            "2019-11-23   7262.110535   7375.491699\n",
            "2019-11-24   7303.405759   7241.579102\n",
            "...                  ...           ...\n",
            "2021-05-28  38717.769220  34168.062500\n",
            "2021-05-29  34898.008720  33852.832031\n",
            "2021-05-30  34535.522468  33466.789062\n",
            "2021-05-31  35749.655692  33033.605469\n",
            "2021-06-01  36929.476740  32668.107422\n",
            "\n",
            "[560 rows x 2 columns]\n"
          ],
          "name": "stdout"
        }
      ]
    },
    {
      "cell_type": "code",
      "metadata": {
        "colab": {
          "base_uri": "https://localhost:8080/"
        },
        "id": "57rxAcIixSHw",
        "outputId": "ecaf8562-966e-4831-f0d5-dd11e4dd4ce2"
      },
      "source": [
        "dataset = data.values\n",
        "training_data_len = math.ceil(len(dataset) * .8)\n",
        "train_dataa= dataset[0:training_data_len, :]\n",
        "test_dataa=dataset[training_data_len - 60:,:]\n",
        "train_dataa=pd.DataFrame(train_dataa)\n",
        "train_dataa.rename(columns={0:'Price'}, inplace=True)\n",
        "test_dataa=pd.DataFrame(test_dataa)\n",
        "test_dataa.rename(columns={0:'Price'}, inplace=True)\n",
        "total_dataset=pd.concat((train_dataa[\"Price\"],test_dataa[\"Price\"]),axis=0)\n",
        "model_inputs=total_dataset[len(total_dataset)-len(test_data)-60:].values\n",
        "model_inputs=model_inputs.reshape(-1,1)\n",
        "model_inputs=scaler.transform(model_inputs)\n",
        "real_data=[model_inputs[len(model_inputs) +1-60:len(model_inputs+1 ),0]]\n",
        "real_data=np.array(real_data)\n",
        "real_data=np.reshape(real_data,(real_data.shape[0],real_data.shape[1],1))\n",
        "prediction=model.predict(real_data)\n",
        "prediction=scaler.inverse_transform(prediction)\n",
        "y= (valid['Price '])\n",
        "x=(valid['predictions'])\n",
        "from scipy import stats\n",
        "slope, intercept, r, p, std_err = stats.linregress(x, y)\n",
        "def myfunc(x):\n",
        "  return slope * x + intercept\n",
        "final = myfunc(prediction)\n",
        "print(f\"prediction for next day :{final}\")"
      ],
      "execution_count": null,
      "outputs": [
        {
          "output_type": "stream",
          "text": [
            "prediction for next day :[[36842.586]]\n"
          ],
          "name": "stdout"
        }
      ]
    }
  ]
}